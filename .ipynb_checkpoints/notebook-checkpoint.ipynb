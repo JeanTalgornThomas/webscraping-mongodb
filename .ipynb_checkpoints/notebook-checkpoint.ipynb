{
 "cells": [
  {
   "cell_type": "code",
   "execution_count": 1,
   "metadata": {},
   "outputs": [],
   "source": [
    "#!pip install selenium\n",
    "#!pip install pymongo\n",
    "#!pip install pymysql"
   ]
  },
  {
   "cell_type": "code",
   "execution_count": 2,
   "metadata": {},
   "outputs": [],
   "source": [
    "#import time\n",
    "from selenium import webdriver \n",
    "from selenium.webdriver.common.keys import Keys\n",
    "import pandas as pd\n",
    "import pymongo\n",
    "import pymysql\n",
    "from random import randint\n",
    "from time import sleep\n",
    "import re"
   ]
  },
  {
   "cell_type": "code",
   "execution_count": 3,
   "metadata": {},
   "outputs": [],
   "source": [
    "browser = webdriver.Chrome('C:/Users/benpr/Documents/chromedriver_win32/chromedriver.exe')"
   ]
  },
  {
   "cell_type": "code",
   "execution_count": 4,
   "metadata": {},
   "outputs": [],
   "source": [
    "browser.get('https://stockx.com/sneakers/most-popular')\n",
    "sleep(randint(3,5))"
   ]
  },
  {
   "cell_type": "code",
   "execution_count": 5,
   "metadata": {},
   "outputs": [],
   "source": [
    "browser.maximize_window()\n",
    "sleep(randint(3,7))"
   ]
  },
  {
   "cell_type": "code",
   "execution_count": 6,
   "metadata": {},
   "outputs": [],
   "source": [
    "bouton = browser.find_elements_by_xpath('//*[@id=\"chakra-modal-1\"]/footer/button')\n",
    "bouton[0].click()\n",
    "sleep(randint(3,7))"
   ]
  },
  {
   "cell_type": "code",
   "execution_count": 7,
   "metadata": {},
   "outputs": [],
   "source": [
    "cookies = browser.find_element_by_xpath('//*[@id=\"root\"]/div[2]/div/div[2]/button')\n",
    "cookies.click()\n",
    "sleep(randint(3,4))"
   ]
  },
  {
   "cell_type": "code",
   "execution_count": 16,
   "metadata": {},
   "outputs": [
    {
     "output_type": "stream",
     "name": "stdout",
     "text": [
      "adidas Yeezy 700 V3 Kyanite\n",
      "Jordan 5 Retro White Stealth (2021)\n",
      "Jordan 1 Retro High White University Blue Black\n",
      "adidas Yeezy Foam RNNR Sand\n",
      "Nike Air Max 90 NRG Bacon (2021)\n",
      "Jordan 9 Retro Change The World (W)\n",
      "adidas Yeezy Boost 350 V2 Ash Pearl\n",
      "Jordan 3 Retro Georgetown (2021)\n",
      "adidas Yeezy Foam RNNR MXT Moon Gray\n",
      "adidas Yeezy Desert Boot Taupe Blue\n",
      "Jordan 6 Retro Carmine (2021)\n",
      "Jordan 1 Retro High Rust Shadow\n",
      "Nike Dunk Low Retro White Black (2021)\n",
      "Nike Air Force 1 Low Supreme White\n",
      "Jordan 12 Retro Arctic Punch (GS)\n",
      "Jordan 1 Mid SE All-Star (2021) (GS)\n",
      "Nike Air Force 1 Low White '07\n",
      "Jordan 1 Mid Paint Drip (GS)\n",
      "Jordan 1 Retro High White University Blue Black (GS)\n",
      "adidas Yeezy Boost 350 V2 Black Red (2017/2020)\n",
      "Nike Dunk Low Orange Pearl (W)\n",
      "Nike Air Structure OG White Neo Teal\n",
      "Nike Dunk Low Retro Hyper Cobalt (2021)\n",
      "Jordan 11 Retro Jubilee 25th Anniversary\n",
      "Jordan 1 Low Purple Magenta (W)\n",
      "Nike Air Max 1 Clot Kiss of Death (2021)\n",
      "Jordan 4 Retro Fire Red (2020)\n",
      "Jordan 5 Retro White Stealth 2021 (GS)\n",
      "Nike Air Max Pre-Day Light Liquid Lime\n",
      "adidas Yeezy Boost 700 V2 Cream\n",
      "Jordan 1 Mid Carbon Fiber All-Star (2021)\n",
      "Nike Dunk High Syracuse (2021)\n",
      "Nike Air Force 1 Low Supreme Black\n",
      "Jordan 1 Retro High Silver Toe (W)\n",
      "Nike Dunk Low Medium Curry\n",
      "Nike Air Max 1 Evolution Of Icons\n",
      "Nike Dunk Low White Black (2021) (W)\n",
      "Nike Dunk Low College Navy Grey (W)\n",
      "adidas Yeezy Boost 350 V2 Carbon\n",
      "Jordan 1 Low Paint Drip (GS)\n"
     ]
    }
   ],
   "source": [
    "title = browser.find_elements_by_class_name(\"css-nfm48z\")\n",
    "for element in title:\n",
    "    print(element.text)"
   ]
  },
  {
   "cell_type": "code",
   "execution_count": 28,
   "metadata": {},
   "outputs": [
    {
     "output_type": "stream",
     "name": "stdout",
     "text": [
      "['209', '214', '261', '235', '171', '222', '218', '197', '237', '240', '199', '188', '214', '130', '136', '134', '76', '112', '299', '341', '192', '134', '136', '213', '141', '150', '201', '135', '130', '286', '129', '165', '128', '205', '321', '175', '222', '175', '231', '137']\n"
     ]
    }
   ],
   "source": [
    "lstprice = []\n",
    "price = browser.find_elements_by_class_name(\"css-ghbupc\")\n",
    "for element in price:\n",
    "    lstprice.append(element.text.replace(\" €\", \"\"))\n",
    "print(lstprice)"
   ]
  },
  {
   "cell_type": "code",
   "execution_count": 43,
   "metadata": {},
   "outputs": [
    {
     "output_type": "error",
     "ename": "AttributeError",
     "evalue": "'str' object has no attribute 'remove'",
     "traceback": [
      "\u001b[1;31m---------------------------------------------------------------------------\u001b[0m",
      "\u001b[1;31mAttributeError\u001b[0m                            Traceback (most recent call last)",
      "\u001b[1;32m<ipython-input-43-146b33801c2e>\u001b[0m in \u001b[0;36m<module>\u001b[1;34m\u001b[0m\n\u001b[0;32m      7\u001b[0m     \u001b[1;31m#Ventes = element.text.replace(\" \", \"\")\u001b[0m\u001b[1;33m\u001b[0m\u001b[1;33m\u001b[0m\u001b[1;33m\u001b[0m\u001b[0m\n\u001b[0;32m      8\u001b[0m     \u001b[0mlstsales\u001b[0m\u001b[1;33m.\u001b[0m\u001b[0mappend\u001b[0m\u001b[1;33m(\u001b[0m\u001b[0mMeilleure\u001b[0m\u001b[1;33m)\u001b[0m\u001b[1;33m\u001b[0m\u001b[1;33m\u001b[0m\u001b[0m\n\u001b[1;32m----> 9\u001b[1;33m     \u001b[0mMeilleure\u001b[0m\u001b[1;33m.\u001b[0m\u001b[0mremove\u001b[0m\u001b[1;33m(\u001b[0m\u001b[1;34m'Meilleure Demande '\u001b[0m\u001b[1;33m)\u001b[0m\u001b[1;33m\u001b[0m\u001b[1;33m\u001b[0m\u001b[0m\n\u001b[0m\u001b[0;32m     10\u001b[0m     \u001b[0mprint\u001b[0m\u001b[1;33m(\u001b[0m\u001b[0mMeilleure\u001b[0m\u001b[1;33m)\u001b[0m\u001b[1;33m\u001b[0m\u001b[1;33m\u001b[0m\u001b[0m\n\u001b[0;32m     11\u001b[0m \u001b[0mprint\u001b[0m\u001b[1;33m(\u001b[0m\u001b[0mlstsales\u001b[0m\u001b[1;33m)\u001b[0m\u001b[1;33m\u001b[0m\u001b[1;33m\u001b[0m\u001b[0m\n",
      "\u001b[1;31mAttributeError\u001b[0m: 'str' object has no attribute 'remove'"
     ]
    }
   ],
   "source": [
    "lstsales = []\n",
    "sales = browser.find_elements_by_class_name(\"css-2xg9fh\")\n",
    "for element in sales:\n",
    "    #re.findall('\\d+', 'jean789')[0]  ## 789\n",
    "    #print(element.text)\n",
    "    Meilleure = element.text.replace(\"- Des Ventes: \", \"\")\n",
    "    #Ventes = element.text.replace(\" \", \"\")\n",
    "    lstsales.append(Meilleure)\n",
    "    #Meilleure.remove('Meilleure Demande ')\n",
    "    #print(Meilleure)\n",
    "while 'Meilleure Demande ' in lstsales:\n",
    "    lstsales.remove('Meilleure Demande ')\n",
    "print(lstsales)"
   ]
  },
  {
   "cell_type": "code",
   "execution_count": 11,
   "metadata": {},
   "outputs": [],
   "source": [
    "#Connexion bdd MySQL\n",
    "#bdMySQL = pymysql.connect(host='localhost', user='root', password='root', database='stockx')\n",
    "#cursor = bdMySQL.cursor()"
   ]
  },
  {
   "cell_type": "code",
   "execution_count": 12,
   "metadata": {},
   "outputs": [],
   "source": [
    "#Connexion bdd Mongo\n",
    "#bddMongo = pymongo.MongoClient(\"mongodb://localhost:27017/\")\n",
    "#mydb = bddMongo[\"stockx\"]"
   ]
  },
  {
   "cell_type": "code",
   "execution_count": null,
   "metadata": {},
   "outputs": [],
   "source": []
  }
 ],
 "metadata": {
  "kernelspec": {
   "name": "python392jvsc74a57bd03d900d0729d74b6cf739ec05b257d24f068ac8b5f5435ac1474696bbe67dfbc0",
   "display_name": "Python 3.9.2 64-bit"
  },
  "language_info": {
   "codemirror_mode": {
    "name": "ipython",
    "version": 3
   },
   "file_extension": ".py",
   "mimetype": "text/x-python",
   "name": "python",
   "nbconvert_exporter": "python",
   "pygments_lexer": "ipython3",
   "version": "3.9.2"
  },
  "metadata": {
   "interpreter": {
    "hash": "3d900d0729d74b6cf739ec05b257d24f068ac8b5f5435ac1474696bbe67dfbc0"
   }
  }
 },
 "nbformat": 4,
 "nbformat_minor": 4
}