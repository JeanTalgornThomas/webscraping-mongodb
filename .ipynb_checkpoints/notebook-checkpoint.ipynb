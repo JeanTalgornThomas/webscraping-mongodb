{
 "cells": [
  {
   "cell_type": "code",
   "execution_count": 1,
   "metadata": {},
   "outputs": [],
   "source": [
    "#!pip install selenium\n",
    "#!pip install pymongo\n",
    "#!pip install pymysql"
   ]
  },
  {
   "cell_type": "code",
   "execution_count": 2,
   "metadata": {},
   "outputs": [],
   "source": [
    "#import time\n",
    "from selenium import webdriver \n",
    "from selenium.webdriver.common.keys import Keys\n",
    "import pandas as pd\n",
    "import pymongo\n",
    "import pymysql\n",
    "from random import randint\n",
    "from time import sleep\n",
    "import re"
   ]
  },
  {
   "cell_type": "code",
   "execution_count": 3,
   "metadata": {},
   "outputs": [],
   "source": [
    "browser = webdriver.Chrome('C:/Users/benpr/Documents/chromedriver_win32/chromedriver.exe')"
   ]
  },
  {
   "cell_type": "code",
   "execution_count": 4,
   "metadata": {},
   "outputs": [],
   "source": [
    "browser.get('https://stockx.com/sneakers/most-popular')\n",
    "sleep(randint(3,5))"
   ]
  },
  {
   "cell_type": "code",
   "execution_count": 5,
   "metadata": {},
   "outputs": [],
   "source": [
    "browser.maximize_window()\n",
    "sleep(randint(3,7))"
   ]
  },
  {
   "cell_type": "code",
   "execution_count": 6,
   "metadata": {},
   "outputs": [],
   "source": [
    "bouton = browser.find_elements_by_xpath('//*[@id=\"chakra-modal-1\"]/footer/button')\n",
    "bouton[0].click()\n",
    "sleep(randint(3,7))"
   ]
  },
  {
   "cell_type": "code",
   "execution_count": 7,
   "metadata": {},
   "outputs": [],
   "source": [
    "cookies = browser.find_element_by_xpath('//*[@id=\"root\"]/div[2]/div/div[2]/button')\n",
    "cookies.click()\n",
    "sleep(randint(3,4))"
   ]
  },
  {
   "cell_type": "code",
   "execution_count": 48,
   "metadata": {},
   "outputs": [
    {
     "output_type": "stream",
     "name": "stdout",
     "text": [
      "['adidas Yeezy 700 V3 Kyanite', 'Jordan 5 Retro White Stealth (2021)', 'Jordan 1 Retro High White University Blue Black', 'adidas Yeezy Foam RNNR Sand', 'Nike Air Max 90 NRG Bacon (2021)', 'Jordan 9 Retro Change The World (W)', 'adidas Yeezy Boost 350 V2 Ash Pearl', 'Jordan 3 Retro Georgetown (2021)', 'adidas Yeezy Foam RNNR MXT Moon Gray', 'adidas Yeezy Desert Boot Taupe Blue', 'Jordan 6 Retro Carmine (2021)', 'Jordan 1 Retro High Rust Shadow', 'Nike Dunk Low Retro White Black (2021)', 'Nike Air Force 1 Low Supreme White', 'Jordan 12 Retro Arctic Punch (GS)', 'Jordan 1 Mid SE All-Star (2021) (GS)', \"Nike Air Force 1 Low White '07\", 'Jordan 1 Mid Paint Drip (GS)', 'Jordan 1 Retro High White University Blue Black (GS)', 'adidas Yeezy Boost 350 V2 Black Red (2017/2020)', 'Nike Dunk Low Orange Pearl (W)', 'Nike Air Structure OG White Neo Teal', 'Nike Dunk Low Retro Hyper Cobalt (2021)', 'Jordan 11 Retro Jubilee 25th Anniversary', 'Jordan 1 Low Purple Magenta (W)', 'Nike Air Max 1 Clot Kiss of Death (2021)', 'Jordan 4 Retro Fire Red (2020)', 'Jordan 5 Retro White Stealth 2021 (GS)', 'Nike Air Max Pre-Day Light Liquid Lime', 'adidas Yeezy Boost 700 V2 Cream', 'Jordan 1 Mid Carbon Fiber All-Star (2021)', 'Nike Dunk High Syracuse (2021)', 'Nike Air Force 1 Low Supreme Black', 'Jordan 1 Retro High Silver Toe (W)', 'Nike Dunk Low Medium Curry', 'Nike Air Max 1 Evolution Of Icons', 'Nike Dunk Low White Black (2021) (W)', 'Nike Dunk Low College Navy Grey (W)', 'adidas Yeezy Boost 350 V2 Carbon', 'Jordan 1 Low Paint Drip (GS)']\n"
     ]
    }
   ],
   "source": [
    "lstTitle = []\n",
    "title = browser.find_elements_by_class_name(\"css-nfm48z\")\n",
    "for element in title:\n",
    "    lstTitle.append(element.text)\n",
    "print(lstTitle)"
   ]
  },
  {
   "cell_type": "code",
   "execution_count": 28,
   "metadata": {},
   "outputs": [
    {
     "output_type": "stream",
     "name": "stdout",
     "text": [
      "['209', '214', '261', '235', '171', '222', '218', '197', '237', '240', '199', '188', '214', '130', '136', '134', '76', '112', '299', '341', '192', '134', '136', '213', '141', '150', '201', '135', '130', '286', '129', '165', '128', '205', '321', '175', '222', '175', '231', '137']\n"
     ]
    }
   ],
   "source": [
    "lstprice = []\n",
    "price = browser.find_elements_by_class_name(\"css-ghbupc\")\n",
    "for element in price:\n",
    "    lstprice.append(element.text.replace(\" €\", \"\"))\n",
    "print(lstprice)"
   ]
  },
  {
   "cell_type": "code",
   "execution_count": 46,
   "metadata": {},
   "outputs": [
    {
     "output_type": "stream",
     "name": "stdout",
     "text": [
      "['1494', '1381', '1200', '1143', '1125', '1060', '991', '951', '850', '804', '793', '769', '704', '679', '597', '539', '503', '495', '492', '476', '444', '442', '441', '413', '389', '374', '373', '372', '368', '350', '348', '342', '323', '318', '291', '286', '280', '278', '278', '269']\n"
     ]
    }
   ],
   "source": [
    "lstsales = []\n",
    "sales = browser.find_elements_by_class_name(\"css-2xg9fh\")\n",
    "for element in sales:\n",
    "    Meilleure = element.text.replace(\"- Des Ventes: \", \"\")\n",
    "    lstsales.append(Meilleure)\n",
    "while 'Meilleure Demande' in lstsales:\n",
    "    lstsales.remove('Meilleure Demande')\n",
    "print(lstsales)"
   ]
  },
  {
   "cell_type": "code",
   "execution_count": 11,
   "metadata": {},
   "outputs": [],
   "source": [
    "#Connexion bdd MySQL\n",
    "#bdMySQL = pymysql.connect(host='localhost', user='root', password='root', database='stockx')\n",
    "#cursor = bdMySQL.cursor()"
   ]
  },
  {
   "cell_type": "code",
   "execution_count": 61,
   "metadata": {},
   "outputs": [],
   "source": [
    "#Connexion bdd Mongo\n",
    "try:\n",
    "    bddMongo = pymongo.MongoClient(\"mongodb://localhost:27017/\")\n",
    "    mydb = bddMongo[\"stockx\"]\n",
    "    mycol = mydb[\"meilleurs\"]\n",
    "except pymongo.errors.ConnectionFailure :\n",
    "    print(\"Could not connect to server\")"
   ]
  },
  {
   "cell_type": "code",
   "execution_count": 66,
   "metadata": {
    "tags": []
   },
   "outputs": [
    {
     "output_type": "stream",
     "name": "stdout",
     "text": [
      "0\n{'title': 'adidas Yeezy 700 V3 Kyanite', 'price': '209', 'sales': '1494'}\n<pymongo.results.InsertOneResult object at 0x0000021C824F7A40>\n1\n{'title': 'Jordan 5 Retro White Stealth (2021)', 'price': '214', 'sales': '1381'}\n<pymongo.results.InsertOneResult object at 0x0000021C81DEFC80>\n2\n{'title': 'Jordan 1 Retro High White University Blue Black', 'price': '261', 'sales': '1200'}\n<pymongo.results.InsertOneResult object at 0x0000021C81D488C0>\n3\n{'title': 'adidas Yeezy Foam RNNR Sand', 'price': '235', 'sales': '1143'}\n<pymongo.results.InsertOneResult object at 0x0000021C82384D40>\n4\n{'title': 'Nike Air Max 90 NRG Bacon (2021)', 'price': '171', 'sales': '1125'}\n<pymongo.results.InsertOneResult object at 0x0000021C81388E40>\n5\n{'title': 'Jordan 9 Retro Change The World (W)', 'price': '222', 'sales': '1060'}\n<pymongo.results.InsertOneResult object at 0x0000021C81EAF040>\n6\n{'title': 'adidas Yeezy Boost 350 V2 Ash Pearl', 'price': '218', 'sales': '991'}\n<pymongo.results.InsertOneResult object at 0x0000021C80316180>\n7\n{'title': 'Jordan 3 Retro Georgetown (2021)', 'price': '197', 'sales': '951'}\n<pymongo.results.InsertOneResult object at 0x0000021C802F3240>\n8\n{'title': 'adidas Yeezy Foam RNNR MXT Moon Gray', 'price': '237', 'sales': '850'}\n<pymongo.results.InsertOneResult object at 0x0000021C82CABAC0>\n9\n{'title': 'adidas Yeezy Desert Boot Taupe Blue', 'price': '240', 'sales': '804'}\n<pymongo.results.InsertOneResult object at 0x0000021C822FC740>\n10\n{'title': 'Jordan 6 Retro Carmine (2021)', 'price': '199', 'sales': '793'}\n<pymongo.results.InsertOneResult object at 0x0000021C82384D40>\n11\n{'title': 'Jordan 1 Retro High Rust Shadow', 'price': '188', 'sales': '769'}\n<pymongo.results.InsertOneResult object at 0x0000021C8081D800>\n12\n{'title': 'Nike Dunk Low Retro White Black (2021)', 'price': '214', 'sales': '704'}\n<pymongo.results.InsertOneResult object at 0x0000021C811DBD00>\n13\n{'title': 'Nike Air Force 1 Low Supreme White', 'price': '130', 'sales': '679'}\n<pymongo.results.InsertOneResult object at 0x0000021C811DBFC0>\n14\n{'title': 'Jordan 12 Retro Arctic Punch (GS)', 'price': '136', 'sales': '597'}\n<pymongo.results.InsertOneResult object at 0x0000021C80114580>\n15\n{'title': 'Jordan 1 Mid SE All-Star (2021) (GS)', 'price': '134', 'sales': '539'}\n<pymongo.results.InsertOneResult object at 0x0000021C80114F40>\n16\n{'title': \"Nike Air Force 1 Low White '07\", 'price': '76', 'sales': '503'}\n<pymongo.results.InsertOneResult object at 0x0000021C81931F00>\n17\n{'title': 'Jordan 1 Mid Paint Drip (GS)', 'price': '112', 'sales': '495'}\n<pymongo.results.InsertOneResult object at 0x0000021C82384600>\n18\n{'title': 'Jordan 1 Retro High White University Blue Black (GS)', 'price': '299', 'sales': '492'}\n<pymongo.results.InsertOneResult object at 0x0000021C820D5B00>\n19\n{'title': 'adidas Yeezy Boost 350 V2 Black Red (2017/2020)', 'price': '341', 'sales': '476'}\n<pymongo.results.InsertOneResult object at 0x0000021C82384A80>\n20\n{'title': 'Nike Dunk Low Orange Pearl (W)', 'price': '192', 'sales': '444'}\n<pymongo.results.InsertOneResult object at 0x0000021C803A5CC0>\n21\n{'title': 'Nike Air Structure OG White Neo Teal', 'price': '134', 'sales': '442'}\n<pymongo.results.InsertOneResult object at 0x0000021C822FCF80>\n22\n{'title': 'Nike Dunk Low Retro Hyper Cobalt (2021)', 'price': '136', 'sales': '441'}\n<pymongo.results.InsertOneResult object at 0x0000021C82384A80>\n23\n{'title': 'Jordan 11 Retro Jubilee 25th Anniversary', 'price': '213', 'sales': '413'}\n<pymongo.results.InsertOneResult object at 0x0000021C81931D00>\n24\n{'title': 'Jordan 1 Low Purple Magenta (W)', 'price': '141', 'sales': '389'}\n<pymongo.results.InsertOneResult object at 0x0000021C81931B00>\n25\n{'title': 'Nike Air Max 1 Clot Kiss of Death (2021)', 'price': '150', 'sales': '374'}\n<pymongo.results.InsertOneResult object at 0x0000021C81EA71C0>\n26\n{'title': 'Jordan 4 Retro Fire Red (2020)', 'price': '201', 'sales': '373'}\n<pymongo.results.InsertOneResult object at 0x0000021C8081F080>\n27\n{'title': 'Jordan 5 Retro White Stealth 2021 (GS)', 'price': '135', 'sales': '372'}\n<pymongo.results.InsertOneResult object at 0x0000021C82384A80>\n28\n{'title': 'Nike Air Max Pre-Day Light Liquid Lime', 'price': '130', 'sales': '368'}\n<pymongo.results.InsertOneResult object at 0x0000021C82413B40>\n29\n{'title': 'adidas Yeezy Boost 700 V2 Cream', 'price': '286', 'sales': '350'}\n<pymongo.results.InsertOneResult object at 0x0000021CFF05B340>\n30\n{'title': 'Jordan 1 Mid Carbon Fiber All-Star (2021)', 'price': '129', 'sales': '348'}\n<pymongo.results.InsertOneResult object at 0x0000021C824EF280>\n31\n{'title': 'Nike Dunk High Syracuse (2021)', 'price': '165', 'sales': '342'}\n<pymongo.results.InsertOneResult object at 0x0000021C824EFF80>\n32\n{'title': 'Nike Air Force 1 Low Supreme Black', 'price': '128', 'sales': '323'}\n<pymongo.results.InsertOneResult object at 0x0000021C824EF940>\n33\n{'title': 'Jordan 1 Retro High Silver Toe (W)', 'price': '205', 'sales': '318'}\n<pymongo.results.InsertOneResult object at 0x0000021C81931E80>\n34\n{'title': 'Nike Dunk Low Medium Curry', 'price': '321', 'sales': '291'}\n<pymongo.results.InsertOneResult object at 0x0000021C823BF880>\n35\n{'title': 'Nike Air Max 1 Evolution Of Icons', 'price': '175', 'sales': '286'}\n<pymongo.results.InsertOneResult object at 0x0000021C824EF400>\n36\n{'title': 'Nike Dunk Low White Black (2021) (W)', 'price': '222', 'sales': '280'}\n<pymongo.results.InsertOneResult object at 0x0000021C81F05580>\n37\n{'title': 'Nike Dunk Low College Navy Grey (W)', 'price': '175', 'sales': '278'}\n<pymongo.results.InsertOneResult object at 0x0000021C8198CB40>\n38\n{'title': 'adidas Yeezy Boost 350 V2 Carbon', 'price': '231', 'sales': '278'}\n<pymongo.results.InsertOneResult object at 0x0000021C81953880>\n39\n{'title': 'Jordan 1 Low Paint Drip (GS)', 'price': '137', 'sales': '269'}\n<pymongo.results.InsertOneResult object at 0x0000021C817309C0>\n"
     ]
    }
   ],
   "source": [
    "count = 0\n",
    "while len(lstTitle) > count:\n",
    "    print(count)\n",
    "    dictionnaire = {}\n",
    "    dictionnaire[\"title\"] = lstTitle[count]\n",
    "    dictionnaire[\"price\"] = lstprice[count]\n",
    "    dictionnaire[\"sales\"] = lstsales[count]\n",
    "    print(dictionnaire)\n",
    "    x = mycol.insert_one(dictionnaire)\n",
    "    count +=1\n",
    "    print(x)"
   ]
  },
  {
   "cell_type": "code",
   "execution_count": null,
   "metadata": {},
   "outputs": [],
   "source": []
  }
 ],
 "metadata": {
  "kernelspec": {
   "name": "python392jvsc74a57bd03d900d0729d74b6cf739ec05b257d24f068ac8b5f5435ac1474696bbe67dfbc0",
   "display_name": "Python 3.9.2 64-bit"
  },
  "language_info": {
   "codemirror_mode": {
    "name": "ipython",
    "version": 3
   },
   "file_extension": ".py",
   "mimetype": "text/x-python",
   "name": "python",
   "nbconvert_exporter": "python",
   "pygments_lexer": "ipython3",
   "version": "3.9.2"
  },
  "metadata": {
   "interpreter": {
    "hash": "3d900d0729d74b6cf739ec05b257d24f068ac8b5f5435ac1474696bbe67dfbc0"
   }
  }
 },
 "nbformat": 4,
 "nbformat_minor": 4
}