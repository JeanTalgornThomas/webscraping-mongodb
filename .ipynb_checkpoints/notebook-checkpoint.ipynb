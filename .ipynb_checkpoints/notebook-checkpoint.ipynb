{
 "cells": [
  {
   "cell_type": "code",
   "execution_count": 1,
   "metadata": {},
   "outputs": [],
   "source": [
    "#!pip install selenium\n",
    "#!pip install pymongo\n",
    "#!pip install pymysql"
   ]
  },
  {
   "cell_type": "code",
   "execution_count": 2,
   "metadata": {},
   "outputs": [],
   "source": [
    "#import time\n",
    "from selenium import webdriver \n",
    "from selenium.webdriver.common.keys import Keys\n",
    "import pandas as pd\n",
    "import pymongo\n",
    "import pymysql\n",
    "from random import randint\n",
    "from time import sleep\n",
    "import re"
   ]
  },
  {
   "cell_type": "code",
   "execution_count": 3,
   "metadata": {},
   "outputs": [],
   "source": [
    "browser = webdriver.Chrome('C:/Users/benpr/Documents/chromedriver_win32/chromedriver.exe')"
   ]
  },
  {
   "cell_type": "code",
   "execution_count": 4,
   "metadata": {},
   "outputs": [],
   "source": [
    "browser.get('https://stockx.com/sneakers/most-popular')\n",
    "sleep(randint(3,5))"
   ]
  },
  {
   "cell_type": "code",
   "execution_count": 5,
   "metadata": {},
   "outputs": [],
   "source": [
    "browser.maximize_window()\n",
    "sleep(randint(3,7))"
   ]
  },
  {
   "cell_type": "code",
   "execution_count": 6,
   "metadata": {},
   "outputs": [],
   "source": [
    "bouton = browser.find_elements_by_xpath('//*[@id=\"chakra-modal-1\"]/footer/button')\n",
    "bouton[0].click()\n",
    "sleep(randint(3,7))"
   ]
  },
  {
   "cell_type": "code",
   "execution_count": 7,
   "metadata": {},
   "outputs": [],
   "source": [
    "cookies = browser.find_element_by_xpath('//*[@id=\"root\"]/div[2]/div/div[2]/button')\n",
    "cookies.click()\n",
    "sleep(randint(3,4))"
   ]
  },
  {
   "cell_type": "code",
   "execution_count": 48,
   "metadata": {},
   "outputs": [
    {
     "output_type": "stream",
     "name": "stdout",
     "text": [
      "['adidas Yeezy 700 V3 Kyanite', 'Jordan 5 Retro White Stealth (2021)', 'Jordan 1 Retro High White University Blue Black', 'adidas Yeezy Foam RNNR Sand', 'Nike Air Max 90 NRG Bacon (2021)', 'Jordan 9 Retro Change The World (W)', 'adidas Yeezy Boost 350 V2 Ash Pearl', 'Jordan 3 Retro Georgetown (2021)', 'adidas Yeezy Foam RNNR MXT Moon Gray', 'adidas Yeezy Desert Boot Taupe Blue', 'Jordan 6 Retro Carmine (2021)', 'Jordan 1 Retro High Rust Shadow', 'Nike Dunk Low Retro White Black (2021)', 'Nike Air Force 1 Low Supreme White', 'Jordan 12 Retro Arctic Punch (GS)', 'Jordan 1 Mid SE All-Star (2021) (GS)', \"Nike Air Force 1 Low White '07\", 'Jordan 1 Mid Paint Drip (GS)', 'Jordan 1 Retro High White University Blue Black (GS)', 'adidas Yeezy Boost 350 V2 Black Red (2017/2020)', 'Nike Dunk Low Orange Pearl (W)', 'Nike Air Structure OG White Neo Teal', 'Nike Dunk Low Retro Hyper Cobalt (2021)', 'Jordan 11 Retro Jubilee 25th Anniversary', 'Jordan 1 Low Purple Magenta (W)', 'Nike Air Max 1 Clot Kiss of Death (2021)', 'Jordan 4 Retro Fire Red (2020)', 'Jordan 5 Retro White Stealth 2021 (GS)', 'Nike Air Max Pre-Day Light Liquid Lime', 'adidas Yeezy Boost 700 V2 Cream', 'Jordan 1 Mid Carbon Fiber All-Star (2021)', 'Nike Dunk High Syracuse (2021)', 'Nike Air Force 1 Low Supreme Black', 'Jordan 1 Retro High Silver Toe (W)', 'Nike Dunk Low Medium Curry', 'Nike Air Max 1 Evolution Of Icons', 'Nike Dunk Low White Black (2021) (W)', 'Nike Dunk Low College Navy Grey (W)', 'adidas Yeezy Boost 350 V2 Carbon', 'Jordan 1 Low Paint Drip (GS)']\n"
     ]
    }
   ],
   "source": [
    "lstTitle = []\n",
    "title = browser.find_elements_by_class_name(\"css-nfm48z\")\n",
    "for element in title:\n",
    "    lstTitle.append(element.text)\n",
    "print(lstTitle)"
   ]
  },
  {
   "cell_type": "code",
   "execution_count": 28,
   "metadata": {},
   "outputs": [
    {
     "output_type": "stream",
     "name": "stdout",
     "text": [
      "['209', '214', '261', '235', '171', '222', '218', '197', '237', '240', '199', '188', '214', '130', '136', '134', '76', '112', '299', '341', '192', '134', '136', '213', '141', '150', '201', '135', '130', '286', '129', '165', '128', '205', '321', '175', '222', '175', '231', '137']\n"
     ]
    }
   ],
   "source": [
    "lstprice = []\n",
    "price = browser.find_elements_by_class_name(\"css-ghbupc\")\n",
    "for element in price:\n",
    "    lstprice.append(element.text.replace(\" €\", \"\"))\n",
    "print(lstprice)"
   ]
  },
  {
   "cell_type": "code",
   "execution_count": 46,
   "metadata": {},
   "outputs": [
    {
     "output_type": "stream",
     "name": "stdout",
     "text": [
      "['1494', '1381', '1200', '1143', '1125', '1060', '991', '951', '850', '804', '793', '769', '704', '679', '597', '539', '503', '495', '492', '476', '444', '442', '441', '413', '389', '374', '373', '372', '368', '350', '348', '342', '323', '318', '291', '286', '280', '278', '278', '269']\n"
     ]
    }
   ],
   "source": [
    "lstsales = []\n",
    "sales = browser.find_elements_by_class_name(\"css-2xg9fh\")\n",
    "for element in sales:\n",
    "    Meilleure = element.text.replace(\"- Des Ventes: \", \"\")\n",
    "    lstsales.append(Meilleure)\n",
    "while 'Meilleure Demande' in lstsales:\n",
    "    lstsales.remove('Meilleure Demande')\n",
    "print(lstsales)"
   ]
  },
  {
   "cell_type": "code",
   "execution_count": 11,
   "metadata": {},
   "outputs": [],
   "source": [
    "#Connexion bdd MySQL\n",
    "#bdMySQL = pymysql.connect(host='localhost', user='root', password='root', database='stockx')\n",
    "#cursor = bdMySQL.cursor()"
   ]
  },
  {
   "cell_type": "code",
   "execution_count": 58,
   "metadata": {},
   "outputs": [
    {
     "output_type": "stream",
     "name": "stdout",
     "text": [
      "MongoClient(host=['localhost:27017'], document_class=dict, tz_aware=False, connect=True)\n"
     ]
    }
   ],
   "source": [
    "#Connexion bdd Mongo\n",
    "try:\n",
    "    bddMongo = pymongo.MongoClient(\"mongodb://localhost:27017/\")\n",
    "    print(bddMongo)\n",
    "    mydb = bddMongo[\"stockx\"]\n",
    "    mycol = mydb[\"meilleurs\"]\n",
    "    print(mydb)\n",
    "except pymongo.errors.ConnectionFailure :\n",
    "    print(\"Could not connect to server\")"
   ]
  },
  {
   "cell_type": "code",
   "execution_count": 57,
   "metadata": {},
   "outputs": [],
   "source": [
    "count = 0\n",
    "while len(lstTitle) <= count:\n",
    "    print(count)\n",
    "    dictionnaire = {}\n",
    "    dictionnaire[\"title\"] = lstTitle[count]\n",
    "    dictionnaire[\"prix\"] = lstprice[count]\n",
    "    dictionnaire[\"sales\"] = lstsales[count]\n",
    "    print(dictionnaire)\n",
    "    x = mycol.insert_one(dictionnaire)\n",
    "    print(x)"
   ]
  },
  {
   "cell_type": "code",
   "execution_count": null,
   "metadata": {},
   "outputs": [],
   "source": []
  }
 ],
 "metadata": {
  "kernelspec": {
   "name": "python392jvsc74a57bd03d900d0729d74b6cf739ec05b257d24f068ac8b5f5435ac1474696bbe67dfbc0",
   "display_name": "Python 3.9.2 64-bit"
  },
  "language_info": {
   "codemirror_mode": {
    "name": "ipython",
    "version": 3
   },
   "file_extension": ".py",
   "mimetype": "text/x-python",
   "name": "python",
   "nbconvert_exporter": "python",
   "pygments_lexer": "ipython3",
   "version": "3.9.2"
  },
  "metadata": {
   "interpreter": {
    "hash": "3d900d0729d74b6cf739ec05b257d24f068ac8b5f5435ac1474696bbe67dfbc0"
   }
  }
 },
 "nbformat": 4,
 "nbformat_minor": 4
}