{
 "cells": [
  {
   "cell_type": "code",
   "execution_count": 1,
   "metadata": {},
   "outputs": [],
   "source": [
    "#!pip install selenium\n",
    "#!pip install pymongo\n",
    "#!pip install pymysql"
   ]
  },
  {
   "cell_type": "code",
   "execution_count": 2,
   "metadata": {},
   "outputs": [],
   "source": [
    "#import time\n",
    "from selenium import webdriver \n",
    "from selenium.webdriver.common.keys import Keys\n",
    "import pandas as pd\n",
    "import pymongo\n",
    "import pymysql\n",
    "from random import randint\n",
    "from time import sleep"
   ]
  },
  {
   "cell_type": "code",
   "execution_count": 3,
   "metadata": {},
   "outputs": [],
   "source": [
    "browser = webdriver.Chrome('C:/Users/benpr/Documents/chromedriver_win32/chromedriver.exe')"
   ]
  },
  {
   "cell_type": "code",
   "execution_count": 4,
   "metadata": {},
   "outputs": [],
   "source": [
    "browser.get('https://stockx.com/sneakers/most-popular')\n",
    "sleep(randint(3,5))"
   ]
  },
  {
   "cell_type": "code",
   "execution_count": 5,
   "metadata": {},
   "outputs": [],
   "source": [
    "browser.maximize_window()\n",
    "sleep(randint(3,7))"
   ]
  },
  {
   "cell_type": "code",
   "execution_count": 6,
   "metadata": {},
   "outputs": [],
   "source": [
    "bouton = browser.find_elements_by_xpath('//*[@id=\"chakra-modal-1\"]/footer/button')\n",
    "bouton[0].click()\n",
    "sleep(randint(3,7))"
   ]
  },
  {
   "cell_type": "code",
   "execution_count": 7,
   "metadata": {},
   "outputs": [],
   "source": [
    "cookies = browser.find_element_by_xpath('//*[@id=\"root\"]/div[2]/div/div[2]/button')\n",
    "cookies.click()\n",
    "sleep(randint(3,4))"
   ]
  },
  {
   "cell_type": "code",
   "execution_count": 25,
   "metadata": {},
   "outputs": [
    {
     "output_type": "stream",
     "name": "stdout",
     "text": [
      "Jordan 5 Retro White Stealth (2021)\n",
      "adidas Yeezy 700 V3 Kyanite\n",
      "Jordan 1 Retro High White University Blue Black\n",
      "Nike Air Max 90 NRG Bacon (2021)\n",
      "adidas Yeezy Boost 350 V2 Ash Pearl\n",
      "adidas Yeezy Foam RNNR Sand\n",
      "Jordan 6 Retro Carmine (2021)\n",
      "Jordan 1 Retro High Rust Shadow\n",
      "adidas Yeezy Desert Boot Taupe Blue\n",
      "Jordan 3 Retro Georgetown (2021)\n",
      "adidas Yeezy Foam RNNR MXT Moon Gray\n",
      "Nike Air Force 1 Low Supreme White\n",
      "Nike Dunk Low Retro White Black (2021)\n",
      "Jordan 1 Mid SE All-Star (2021) (GS)\n",
      "Jordan 1 Retro High White University Blue Black (GS)\n",
      "adidas Yeezy Boost 350 V2 Black Red (2017/2020)\n",
      "Nike Air Force 1 Low White '07\n",
      "Jordan 1 Mid Paint Drip (GS)\n",
      "Nike Dunk Low Orange Pearl (W)\n",
      "Jordan 9 Retro Change The World (W)\n",
      "Jordan 11 Retro Jubilee 25th Anniversary\n",
      "Nike Dunk Low Retro Hyper Cobalt (2021)\n",
      "Jordan 5 Retro White Stealth 2021 (GS)\n",
      "Jordan 12 Retro Arctic Punch (GS)\n",
      "Nike Air Structure OG White Neo Teal\n",
      "Nike Air Max 1 Clot Kiss of Death (2021)\n",
      "adidas Yeezy Boost 700 V2 Cream\n",
      "Nike Air Max Pre-Day Light Liquid Lime\n",
      "Nike Air Force 1 Low Supreme Black\n",
      "Nike Dunk High Syracuse (2021)\n",
      "Jordan 1 Retro High Silver Toe (W)\n",
      "Jordan 4 Retro Fire Red (2020)\n",
      "Jordan 1 Mid Carbon Fiber All-Star (2021)\n",
      "adidas Yeezy Boost 350 V2 Carbon\n",
      "Nike Dunk Low White Black (2021) (W)\n",
      "Nike Dunk Low Medium Curry\n",
      "adidas Yeezy Boost 350 V2 Zyon\n",
      "Nike Dunk Low College Navy Grey (W)\n",
      "Nike Air Max 1 Evolution Of Icons\n",
      "Jordan 1 Mid Banned (2020)\n"
     ]
    }
   ],
   "source": [
    "title = browser.find_elements_by_class_name(\"css-pgwwog-PrimaryText\")\n",
    "for element in title:\n",
    "    print(element.text)"
   ]
  },
  {
   "cell_type": "code",
   "execution_count": 26,
   "metadata": {},
   "outputs": [
    {
     "output_type": "stream",
     "name": "stdout",
     "text": [
      "213 €\n",
      "210 €\n",
      "261 €\n",
      "170 €\n",
      "214 €\n",
      "239 €\n",
      "203 €\n",
      "188 €\n",
      "231 €\n",
      "199 €\n",
      "242 €\n",
      "138 €\n",
      "235 €\n",
      "132 €\n",
      "299 €\n",
      "337 €\n",
      "81 €\n",
      "114 €\n",
      "191 €\n",
      "242 €\n",
      "214 €\n",
      "135 €\n",
      "134 €\n",
      "142 €\n",
      "137 €\n",
      "161 €\n",
      "278 €\n",
      "139 €\n",
      "124 €\n",
      "154 €\n",
      "205 €\n",
      "201 €\n",
      "129 €\n",
      "229 €\n",
      "222 €\n",
      "315 €\n",
      "213 €\n",
      "173 €\n",
      "175 €\n",
      "75 €\n"
     ]
    }
   ],
   "source": [
    "price = browser.find_elements_by_class_name(\"css-bc2ezx-PrimaryText\")\n",
    "for element in price:\n",
    "    print(element.text)"
   ]
  },
  {
   "cell_type": "code",
   "execution_count": null,
   "metadata": {},
   "outputs": [],
   "source": [
    "sales = browser.find_elements_by_class_name(\"css-1lb1zw9-SecondaryText\")\n",
    "for element in sales:\n",
    "    print(element.text)"
   ]
  },
  {
   "cell_type": "code",
   "execution_count": 8,
   "metadata": {},
   "outputs": [],
   "source": [
    "#Connexion bdd MySQL\n",
    "#bdMySQL = pymysql.connect(host='localhost', user='root', password='root', database='stockx')\n",
    "#cursor = bdMySQL.cursor()"
   ]
  },
  {
   "cell_type": "code",
   "execution_count": 9,
   "metadata": {},
   "outputs": [],
   "source": [
    "#Connexion bdd Mongo\n",
    "#bddMongo = pymongo.MongoClient(\"mongodb://localhost:27017/\")\n",
    "#mydb = bddMongo[\"stockx\"]"
   ]
  },
  {
   "cell_type": "code",
   "execution_count": null,
   "metadata": {},
   "outputs": [],
   "source": []
  }
 ],
 "metadata": {
  "kernelspec": {
   "name": "python3",
   "display_name": "Python 3.9.2 64-bit",
   "metadata": {
    "interpreter": {
     "hash": "3d900d0729d74b6cf739ec05b257d24f068ac8b5f5435ac1474696bbe67dfbc0"
    }
   }
  },
  "language_info": {
   "codemirror_mode": {
    "name": "ipython",
    "version": 3
   },
   "file_extension": ".py",
   "mimetype": "text/x-python",
   "name": "python",
   "nbconvert_exporter": "python",
   "pygments_lexer": "ipython3",
   "version": "3.9.2"
  }
 },
 "nbformat": 4,
 "nbformat_minor": 4
}